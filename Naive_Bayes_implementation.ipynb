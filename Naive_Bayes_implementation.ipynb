{
 "cells": [
  {
   "cell_type": "code",
   "execution_count": 1,
   "id": "9ba807e0",
   "metadata": {},
   "outputs": [
    {
     "name": "stdout",
     "output_type": "stream",
     "text": [
      "    Outlook Temperature Humidity  Windy Play\n",
      "0     sunny         hot     high  False   no\n",
      "1     sunny         hot     high   True   no\n",
      "2  overcast         hot     high  False  yes\n",
      "3     rainy        mild     high  False  yes\n",
      "4     rainy        cool   normal  False  yes\n"
     ]
    }
   ],
   "source": [
    "import pandas as pd\n",
    "from sklearn.naive_bayes import MultinomialNB\n",
    "df  = pd.read_csv('golf_df.csv')\n",
    "print(df.head())"
   ]
  },
  {
   "cell_type": "code",
   "execution_count": 3,
   "id": "b139610f",
   "metadata": {},
   "outputs": [
    {
     "name": "stdout",
     "output_type": "stream",
     "text": [
      "<class 'pandas.core.frame.DataFrame'>\n",
      "RangeIndex: 14 entries, 0 to 13\n",
      "Data columns (total 5 columns):\n",
      " #   Column       Non-Null Count  Dtype \n",
      "---  ------       --------------  ----- \n",
      " 0   Outlook      14 non-null     object\n",
      " 1   Temperature  14 non-null     object\n",
      " 2   Humidity     14 non-null     object\n",
      " 3   Windy        14 non-null     bool  \n",
      " 4   Play         14 non-null     object\n",
      "dtypes: bool(1), object(4)\n",
      "memory usage: 590.0+ bytes\n",
      "None\n"
     ]
    }
   ],
   "source": [
    "print (df.info())"
   ]
  },
  {
   "cell_type": "code",
   "execution_count": 4,
   "id": "5d3cca88",
   "metadata": {},
   "outputs": [],
   "source": [
    "df = df.apply(lambda x : x.astype('category'))\n",
    "df1 = df.apply(lambda x : x.cat.codes)"
   ]
  },
  {
   "cell_type": "code",
   "execution_count": 5,
   "id": "5bffdeb2",
   "metadata": {},
   "outputs": [
    {
     "name": "stdout",
     "output_type": "stream",
     "text": [
      "   Outlook  Temperature  Humidity  Windy  Play\n",
      "0        2            1         0      0     0\n",
      "1        2            1         0      1     0\n",
      "2        0            1         0      0     1\n",
      "3        1            2         0      0     1\n",
      "4        1            0         1      0     1\n"
     ]
    }
   ],
   "source": [
    "print(df1.head())"
   ]
  },
  {
   "cell_type": "code",
   "execution_count": 6,
   "id": "489d970e",
   "metadata": {},
   "outputs": [],
   "source": [
    "train = df1[:10]\n",
    "test = df1[-4:]\n",
    "\n",
    "y_train = train.pop('Play')\n",
    "x_train = train\n",
    "\n",
    "y_test = test.pop('Play')\n",
    "x_test = test"
   ]
  },
  {
   "cell_type": "code",
   "execution_count": 7,
   "id": "fa5fbddb",
   "metadata": {},
   "outputs": [],
   "source": [
    "model = MultinomialNB()\n",
    "model_obj = model.fit(x_train, y_train)"
   ]
  },
  {
   "cell_type": "code",
   "execution_count": 8,
   "id": "491d250d",
   "metadata": {},
   "outputs": [],
   "source": [
    "y_pred = model.predict(x_test)"
   ]
  },
  {
   "cell_type": "code",
   "execution_count": 9,
   "id": "9d8b3e6f",
   "metadata": {},
   "outputs": [
    {
     "name": "stdout",
     "output_type": "stream",
     "text": [
      "Training Accuracy:  0.9\n",
      "Testing Accuracy:  1.0\n"
     ]
    }
   ],
   "source": [
    "print('Training Accuracy: ',model.score(x_train,y_train))\n",
    "print('Testing Accuracy: ',model.score(x_test,y_test))"
   ]
  },
  {
   "cell_type": "code",
   "execution_count": null,
   "id": "00219a88",
   "metadata": {},
   "outputs": [],
   "source": []
  }
 ],
 "metadata": {
  "kernelspec": {
   "display_name": "Python 3 (ipykernel)",
   "language": "python",
   "name": "python3"
  },
  "language_info": {
   "codemirror_mode": {
    "name": "ipython",
    "version": 3
   },
   "file_extension": ".py",
   "mimetype": "text/x-python",
   "name": "python",
   "nbconvert_exporter": "python",
   "pygments_lexer": "ipython3",
   "version": "3.10.9"
  }
 },
 "nbformat": 4,
 "nbformat_minor": 5
}
